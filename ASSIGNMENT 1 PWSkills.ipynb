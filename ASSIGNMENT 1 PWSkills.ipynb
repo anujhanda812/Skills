{
 "cells": [
  {
   "cell_type": "code",
   "execution_count": 1,
   "id": "22f2b64b-3dc5-4970-a8d5-5fce471e2c1f",
   "metadata": {},
   "outputs": [],
   "source": [
    "#question 1 \n",
    "#1. string\n",
    "a = \"Amuj Handa\""
   ]
  },
  {
   "cell_type": "code",
   "execution_count": 2,
   "id": "4d2fc05c-8afa-41bb-99ae-20b2d6db83f1",
   "metadata": {},
   "outputs": [
    {
     "data": {
      "text/plain": [
       "str"
      ]
     },
     "execution_count": 2,
     "metadata": {},
     "output_type": "execute_result"
    }
   ],
   "source": [
    "type(a)"
   ]
  },
  {
   "cell_type": "code",
   "execution_count": 4,
   "id": "019922db-c9a1-4897-b08b-0b464f2058a3",
   "metadata": {},
   "outputs": [
    {
     "data": {
      "text/plain": [
       "list"
      ]
     },
     "execution_count": 4,
     "metadata": {},
     "output_type": "execute_result"
    }
   ],
   "source": [
    "#2.list\n",
    "b= [\"anuj\", 123, 24, 34.66, \"Banana\"]\n",
    "type(b)"
   ]
  },
  {
   "cell_type": "code",
   "execution_count": 5,
   "id": "254648df-4b7c-4edd-9a7e-f0ba1fceafe5",
   "metadata": {},
   "outputs": [
    {
     "data": {
      "text/plain": [
       "float"
      ]
     },
     "execution_count": 5,
     "metadata": {},
     "output_type": "execute_result"
    }
   ],
   "source": [
    "#3. Float\n",
    "c = 33.56\n",
    "type(c)"
   ]
  },
  {
   "cell_type": "code",
   "execution_count": 6,
   "id": "b8571cb2-4072-42bb-b10d-586f3fbe842b",
   "metadata": {},
   "outputs": [],
   "source": [
    "#4. Tuple\n",
    "thistuple = ('apple', 'banana', 'orange')"
   ]
  },
  {
   "cell_type": "code",
   "execution_count": 7,
   "id": "08a0623f-9444-4d24-a8c1-48f209b9ceeb",
   "metadata": {},
   "outputs": [
    {
     "data": {
      "text/plain": [
       "tuple"
      ]
     },
     "execution_count": 7,
     "metadata": {},
     "output_type": "execute_result"
    }
   ],
   "source": [
    "type(thistuple)"
   ]
  },
  {
   "cell_type": "code",
   "execution_count": 8,
   "id": "fda27ca1-93e8-4331-9a44-c3454c6ca4fb",
   "metadata": {},
   "outputs": [],
   "source": [
    "#QUESTION 2"
   ]
  },
  {
   "cell_type": "code",
   "execution_count": 9,
   "id": "90a35436-11ad-406a-9fa4-c2c871bb8a5a",
   "metadata": {},
   "outputs": [
    {
     "data": {
      "text/plain": [
       "str"
      ]
     },
     "execution_count": 9,
     "metadata": {},
     "output_type": "execute_result"
    }
   ],
   "source": [
    "#1.\n",
    "var1 = ''\n",
    "type(var1)"
   ]
  },
  {
   "cell_type": "code",
   "execution_count": 10,
   "id": "05459d90-34fe-4a10-b983-f000bc1accb4",
   "metadata": {},
   "outputs": [
    {
     "data": {
      "text/plain": [
       "str"
      ]
     },
     "execution_count": 10,
     "metadata": {},
     "output_type": "execute_result"
    }
   ],
   "source": [
    "#2. \n",
    "var2 = '[DS, ML, Python]'\n",
    "type(var2)"
   ]
  },
  {
   "cell_type": "code",
   "execution_count": 11,
   "id": "66c4004c-e75e-4914-ac71-a05dac2ef3d0",
   "metadata": {},
   "outputs": [
    {
     "data": {
      "text/plain": [
       "list"
      ]
     },
     "execution_count": 11,
     "metadata": {},
     "output_type": "execute_result"
    }
   ],
   "source": [
    "#3.\n",
    "var3 = [\"DS\", \"ML\", \"Python\"]\n",
    "type(var3)"
   ]
  },
  {
   "cell_type": "code",
   "execution_count": 12,
   "id": "a60c3c07-8b57-4d3a-95ff-476cff89b430",
   "metadata": {},
   "outputs": [
    {
     "data": {
      "text/plain": [
       "int"
      ]
     },
     "execution_count": 12,
     "metadata": {},
     "output_type": "execute_result"
    }
   ],
   "source": [
    "#4.\n",
    "var4 = 1\n",
    "type(var4)"
   ]
  },
  {
   "cell_type": "code",
   "execution_count": 13,
   "id": "bd5c0fb9-6bb5-4555-907a-ca429af9e588",
   "metadata": {},
   "outputs": [],
   "source": [
    "#Question 3 "
   ]
  },
  {
   "cell_type": "code",
   "execution_count": 15,
   "id": "ae68a727-9b57-4c62-be45-e29d77385971",
   "metadata": {},
   "outputs": [
    {
     "data": {
      "text/plain": [
       "2.0"
      ]
     },
     "execution_count": 15,
     "metadata": {},
     "output_type": "execute_result"
    }
   ],
   "source": [
    "#1. use of / is division\n",
    "20/10"
   ]
  },
  {
   "cell_type": "code",
   "execution_count": 16,
   "id": "3c4f6ea0-7222-4dbc-8185-17198fe955f1",
   "metadata": {},
   "outputs": [
    {
     "data": {
      "text/plain": [
       "10"
      ]
     },
     "execution_count": 16,
     "metadata": {},
     "output_type": "execute_result"
    }
   ],
   "source": [
    "#2. use of % finding the remainder\n",
    "40%30"
   ]
  },
  {
   "cell_type": "code",
   "execution_count": 17,
   "id": "6f9e05f3-0a41-4402-bdb7-2f49be3af3c1",
   "metadata": {},
   "outputs": [
    {
     "data": {
      "text/plain": [
       "1"
      ]
     },
     "execution_count": 17,
     "metadata": {},
     "output_type": "execute_result"
    }
   ],
   "source": [
    "#3. use of // finding the floor of operations\n",
    "40//30"
   ]
  },
  {
   "cell_type": "code",
   "execution_count": 18,
   "id": "cdf3859f-5318-4a2b-a264-d16e12a9493e",
   "metadata": {},
   "outputs": [
    {
     "data": {
      "text/plain": [
       "8"
      ]
     },
     "execution_count": 18,
     "metadata": {},
     "output_type": "execute_result"
    }
   ],
   "source": [
    "#4. use of ** is to apply power to a number \n",
    "2**3"
   ]
  },
  {
   "cell_type": "code",
   "execution_count": 20,
   "id": "425ff164-c8ae-480a-b3cc-23b71e91ef10",
   "metadata": {},
   "outputs": [],
   "source": [
    "#QUESTION 4."
   ]
  },
  {
   "cell_type": "code",
   "execution_count": 21,
   "id": "77f1afdd-291c-48e8-a939-07f1f4dbd9d4",
   "metadata": {},
   "outputs": [
    {
     "name": "stdout",
     "output_type": "stream",
     "text": [
      "anuj\n",
      "<class 'str'>\n",
      "22\n",
      "<class 'int'>\n",
      "39.88\n",
      "<class 'float'>\n",
      "apple\n",
      "<class 'str'>\n",
      "banana\n",
      "<class 'str'>\n",
      "kiwi\n",
      "<class 'str'>\n",
      "23\n",
      "<class 'int'>\n",
      "aloo\n",
      "<class 'str'>\n",
      "ckikoo\n",
      "<class 'str'>\n",
      "pwskills\n",
      "<class 'str'>\n"
     ]
    }
   ],
   "source": [
    "l = [\"anuj\", 22, 39.88, \"apple\", \"banana\", 'kiwi', 23, \"aloo\", \"ckikoo\", \"pwskills\"]\n",
    "for i in l:\n",
    "    print(i)\n",
    "    print(type(i))"
   ]
  },
  {
   "cell_type": "code",
   "execution_count": 22,
   "id": "fabdcacf-a6b1-4785-9e96-5d97ddeb51c3",
   "metadata": {},
   "outputs": [],
   "source": [
    "#question 6."
   ]
  },
  {
   "cell_type": "code",
   "execution_count": 26,
   "id": "e3cf4a31-6c1c-4e3f-b999-92025af86acb",
   "metadata": {},
   "outputs": [
    {
     "name": "stdout",
     "output_type": "stream",
     "text": [
      "2 is not divisible by 3\n",
      "3 is divisible by 3\n",
      "4 is not divisible by 3\n",
      "5 is not divisible by 3\n",
      "6 is divisible by 3\n",
      "7 is not divisible by 3\n",
      "8 is not divisible by 3\n",
      "9 is divisible by 3\n",
      "10 is not divisible by 3\n",
      "11 is not divisible by 3\n",
      "12 is divisible by 3\n",
      "13 is not divisible by 3\n",
      "14 is not divisible by 3\n",
      "15 is divisible by 3\n",
      "16 is not divisible by 3\n",
      "17 is not divisible by 3\n",
      "18 is divisible by 3\n",
      "19 is not divisible by 3\n",
      "20 is not divisible by 3\n",
      "21 is divisible by 3\n",
      "22 is not divisible by 3\n",
      "23 is not divisible by 3\n",
      "24 is divisible by 3\n",
      "25 is not divisible by 3\n",
      "26 is not divisible by 3\n"
     ]
    }
   ],
   "source": [
    "l = [2,3,4,5,6,7,8,9,10,11,12,13,14,15,16,17,18,19,20,21,22,23,24,25,26]\n",
    "for i in l :\n",
    "    if i%3 == 0:\n",
    "        print(f\"{i} is divisible by 3\")\n",
    "    else:\n",
    "        print (f\"{i} is not divisible by 3\")"
   ]
  },
  {
   "cell_type": "code",
   "execution_count": 27,
   "id": "9e5c3087-44c5-4206-809f-92207cb720c2",
   "metadata": {},
   "outputs": [],
   "source": [
    "# QUESTION 7. "
   ]
  },
  {
   "cell_type": "code",
   "execution_count": 32,
   "id": "7fb6e085-b9af-4ed4-a24b-6f4ce6c888b2",
   "metadata": {},
   "outputs": [
    {
     "ename": "NameError",
     "evalue": "name 'y' is not defined",
     "output_type": "error",
     "traceback": [
      "\u001b[0;31m---------------------------------------------------------------------------\u001b[0m",
      "\u001b[0;31mNameError\u001b[0m                                 Traceback (most recent call last)",
      "Cell \u001b[0;32mIn[32], line 5\u001b[0m\n\u001b[1;32m      3\u001b[0m \u001b[38;5;66;03m#String is Immutable\u001b[39;00m\n\u001b[1;32m      4\u001b[0m l \u001b[38;5;241m=\u001b[39m \u001b[38;5;124m'\u001b[39m\u001b[38;5;124manuj\u001b[39m\u001b[38;5;124m'\u001b[39m\n\u001b[0;32m----> 5\u001b[0m l[\u001b[38;5;241m1\u001b[39m] \u001b[38;5;241m=\u001b[39m \u001b[43my\u001b[49m\n",
      "\u001b[0;31mNameError\u001b[0m: name 'y' is not defined"
     ]
    }
   ],
   "source": [
    "\" Mutable : those data which can be changed after declaration\"\n",
    "\" Immutable : those data which cannot be changed after declaration\"\n",
    "#String is Immutable\n",
    "l = 'anuj'\n",
    "l[1] = y"
   ]
  },
  {
   "cell_type": "code",
   "execution_count": 38,
   "id": "a559d0e1-b1d1-4cd2-b04d-27c2fd419bce",
   "metadata": {},
   "outputs": [
    {
     "data": {
      "text/plain": [
       "['a', 'd', 'c']"
      ]
     },
     "execution_count": 38,
     "metadata": {},
     "output_type": "execute_result"
    }
   ],
   "source": [
    "l = ['a', 'b', 'c']\n",
    "l[1] = 'd'\n",
    "l"
   ]
  },
  {
   "cell_type": "code",
   "execution_count": 39,
   "id": "0c28b2a0-b890-4544-9be8-d108cc6f6b5c",
   "metadata": {},
   "outputs": [],
   "source": [
    "#QUESTION 5."
   ]
  },
  {
   "cell_type": "code",
   "execution_count": 40,
   "id": "8bf6c30d-1f2d-4589-b5a3-84fc76e31444",
   "metadata": {},
   "outputs": [
    {
     "name": "stdin",
     "output_type": "stream",
     "text": [
      "Please enter number 1. 224\n",
      "Please enter number 2. 2\n"
     ]
    },
    {
     "name": "stdout",
     "output_type": "stream",
     "text": [
      "Number 1 is divisble by number 2 and it is 112 times divisible\n"
     ]
    }
   ],
   "source": [
    "a=int(input(\"Please enter number 1.\"))\n",
    "b=int(input(\"Please enter number 2.\"))\n",
    "count= 0\n",
    "while a>=b:\n",
    "    a=a-b\n",
    "    count+=1\n",
    "if a==0 :\n",
    "    print( \"Number 1 is divisble by number 2 and it is {} times divisible\" .format(count))\n",
    "else :\n",
    "    print( \"Number 1 is not divisible by number 2\" )"
   ]
  }
 ],
 "metadata": {
  "kernelspec": {
   "display_name": "Python 3 (ipykernel)",
   "language": "python",
   "name": "python3"
  },
  "language_info": {
   "codemirror_mode": {
    "name": "ipython",
    "version": 3
   },
   "file_extension": ".py",
   "mimetype": "text/x-python",
   "name": "python",
   "nbconvert_exporter": "python",
   "pygments_lexer": "ipython3",
   "version": "3.10.8"
  }
 },
 "nbformat": 4,
 "nbformat_minor": 5
}
